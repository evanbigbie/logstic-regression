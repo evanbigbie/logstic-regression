{
 "cells": [
  {
   "cell_type": "markdown",
   "metadata": {},
   "source": [
    "# Plot Training Data #\n",
    "Before starting the training, you can visualize the data distribution"
   ]
  },
  {
   "cell_type": "code",
   "execution_count": 1,
   "metadata": {},
   "outputs": [
    {
     "data": {
      "image/png": "[encoded data removed]",
      "text/plain": [
       "<Figure size 432x288 with 1 Axes>"
      ]
     },
     "metadata": {
      "needs_background": "light"
     },
     "output_type": "display_data"
    }
   ],
   "source": [
    "import numpy as np\n",
    "import pandas as pd\n",
    "import matplotlib.pyplot as plt\n",
    "from plotutil import plotData\n",
    "\n",
    "data = np.loadtxt('pa3-data1.csv', delimiter=',')\n",
    "X_train = data[:,[0,1]].T\n",
    "y_train = data[:,-1].T\n",
    "\n",
    "plotData(X_train, y_train, \"1st exam\", \"2nd exam\")"
   ]
  },
  {
   "cell_type": "code",
   "execution_count": 2,
   "metadata": {},
   "outputs": [],
   "source": [
    "def sigmoid(z):\n",
    "\n",
    "    s = 1 / (1 + np.exp(-z))\n",
    "    \n",
    "    return s"
   ]
  },
  {
   "cell_type": "code",
   "execution_count": 3,
   "metadata": {},
   "outputs": [],
   "source": [
    "def initialize_with_zeros(dim):\n",
    "   \n",
    "    print('initialize - dim: ' + str(dim))\n",
    "    W = np.zeros(shape=(dim, 1))\n",
    "    w_0 = 0\n",
    "\n",
    "    assert(W.shape == (dim, 1))\n",
    "    assert(isinstance(w_0, float) or isinstance(w_0, int))\n",
    "    return W, w_0"
   ]
  },
  {
   "cell_type": "code",
   "execution_count": 4,
   "metadata": {},
   "outputs": [],
   "source": [
    "# Gradient Descent Algorithm\n",
    "\n",
    "def gradient_descent(W, w_0, X, Y, num_iterations, learning_rate, print_cost = True):\n",
    "\n",
    "    costs = []\n",
    "\n",
    "    # Get the number of training examples\n",
    "    m = X.shape[1]\n",
    "    # Initialize Y_hat and dw\n",
    "    Z = np.zeros((1, m))\n",
    "    A = np.zeros((1, m))\n",
    "    dw = np.zeros(shape=(2, 1))\n",
    "    \n",
    "    #print('X shape: ' + str(X.shape))\n",
    "    #print('Y shape: ' + str(Y.shape))\n",
    "    #Y = Y.reshape(1,400)\n",
    "    #Y = Y.T\n",
    "    #print('Y shape: ' + str(Y.shape))\n",
    "    \n",
    "    for i in range(num_iterations):      \n",
    "        \n",
    "        # Calculate the heuristic function: z = W.T * X + w_0\n",
    "        Z = np.dot(W.T, X) + w_0\n",
    "        A = sigmoid(Z)\n",
    "        \n",
    "        # Calculate cost, dw[0], dw[1], and dw_0 \n",
    "        cost = -1/m * np.sum(Y * np.log(A) + (1-Y) * (np.log(1-A)))\n",
    "\n",
    "        difference = A - Y\n",
    "        dw[0] = np.dot(X[0], difference.T)/m\n",
    "        dw[1] = np.dot(X[1], difference.T)/m\n",
    "        dw_0 = np.sum(difference)/m\n",
    "        \n",
    "        # Update W and w_0\n",
    "        W = W - learning_rate * dw\n",
    "        w_0 = w_0 - learning_rate * dw_0\n",
    "        \n",
    "        if((i % 100) == 0):\n",
    "            costs.append(cost)\n",
    "            \n",
    "        # Print the cost every 100 training examples\n",
    "        if print_cost and i % 100 == 0:\n",
    "            print (\"Cost after iteration %i: %f\" %(i, cost))      \n",
    "        \n",
    "    params = {\n",
    "        \"W\": W,\n",
    "        \"w_0\": w_0\n",
    "    }\n",
    "\n",
    "    grads = {\n",
    "        \"dw\": dw,\n",
    "        \"dw_0\": dw_0\n",
    "    }\n",
    "        \n",
    "    return params, grads, costs"
   ]
  },
  {
   "cell_type": "code",
   "execution_count": 5,
   "metadata": {},
   "outputs": [],
   "source": [
    "def predict(w, b, X):\n",
    "    \n",
    "    m = X.shape[1]\n",
    "    Y_prediction = np.zeros((1,m))\n",
    "    w = w.reshape(X.shape[0], 1)\n",
    "\n",
    "    Y_prediction = np.dot(w.T, X) + b   \n",
    "    \n",
    "    return Y_prediction"
   ]
  },
  {
   "cell_type": "code",
   "execution_count": 6,
   "metadata": {},
   "outputs": [],
   "source": [
    "def normalize(mtx):\n",
    "\n",
    "    m = mtx.shape[1]\n",
    "    n = mtx.shape[0]\n",
    "    \n",
    "    mean = mtx.sum(axis = 1) / mtx.shape[1]\n",
    "    mean = mean.reshape(n, 1)\n",
    "    \n",
    "    std = np.ptp(mtx,axis=1)\n",
    "    std = std.reshape(n, 1)\n",
    "    \n",
    "    mtx = (mtx - mean) / std\n",
    "    \n",
    "    return mtx"
   ]
  },
  {
   "cell_type": "code",
   "execution_count": 7,
   "metadata": {},
   "outputs": [],
   "source": [
    "def model(X_train, Y_train, X_test, Y_test, num_iterations = 2000, learning_rate = 0.5, print_cost = False):\n",
    "\n",
    "    dim = X_train.shape[0]\n",
    "    W, w_0 = initialize_with_zeros(dim)\n",
    "    \n",
    "    X_train = normalize(X_train)\n",
    "    #X_test = normalize(X_test)\n",
    "       \n",
    "    # Gradient descent \n",
    "    parameters, grads, costs = gradient_descent(W, w_0, X_train, Y_train, num_iterations, learning_rate, print_cost)\n",
    "        \n",
    "    # Retrieve parameters w and w_0 from dictionary \"parameters\"\n",
    "    W = parameters[\"W\"]\n",
    "    w_0 = parameters[\"w_0\"]\n",
    "    \n",
    "    # Predict test/train set examples (≈ 2 lines of code)\n",
    "    Y_prediction_train = predict(W, w_0, X_train)\n",
    "    y_prediction_train = predict(W, w_0, X_test)\n",
    "\n",
    "    # Print train/test Errors\n",
    "    print(\"train accuracy: {} %\".format(100 - np.mean(np.abs(Y_prediction_train - Y_train)) * 100))\n",
    "    #print(\"ytrain accuracy: {} %\".format(100 - np.mean(np.abs(y_prediction_train - y_train)) * 100))\n",
    "\n",
    "    print(\"w is \", W)\n",
    "    print(\"w_0 is \", w_0)\n",
    "    \n",
    "    d = {\"costs\": costs,\n",
    "         \"y_prediction_train\": y_prediction_train, \n",
    "         \"Y_prediction_train\" : Y_prediction_train, \n",
    "         \"W\" : W, \n",
    "         \"w_0\" : w_0,\n",
    "         \"learning_rate\" : learning_rate,\n",
    "         \"num_iterations\": num_iterations}\n",
    "    \n",
    "    return d"
   ]
  },
  {
   "cell_type": "code",
   "execution_count": 8,
   "metadata": {},
   "outputs": [],
   "source": [
    "df = pd.read_csv('pa3-data1.csv', header=None)\n",
    "X_train = df[[0, 1]].values.T\n",
    "Y_train = df[2].values.reshape(-1, 1).T"
   ]
  },
  {
   "cell_type": "markdown",
   "metadata": {},
   "source": [
    "# Plot the Decision Boundary #\n",
    "After training, you can plot the decision boundary to see how well your model classify the training data"
   ]
  },
  {
   "cell_type": "code",
   "execution_count": 9,
   "metadata": {},
   "outputs": [
    {
     "name": "stdout",
     "output_type": "stream",
     "text": [
      "initialize - dim: 2\n",
      "Cost after iteration 0: 0.693147\n",
      "Cost after iteration 100: 0.662597\n",
      "Cost after iteration 200: 0.640261\n",
      "Cost after iteration 300: 0.621853\n",
      "Cost after iteration 400: 0.605606\n",
      "Cost after iteration 500: 0.590766\n",
      "Cost after iteration 600: 0.576990\n",
      "Cost after iteration 700: 0.564103\n",
      "Cost after iteration 800: 0.552001\n",
      "Cost after iteration 900: 0.540612\n",
      "train accuracy: 71.55739349354086 %\n",
      "w is  [[1.20033845]\n",
      " [1.05486991]]\n",
      "w_0 is  0.4119457271562931\n"
     ]
    },
    {
     "ename": "NameError",
     "evalue": "name 'fnc_normalize' is not defined",
     "output_type": "error",
     "traceback": [
      "\u001b[1;31m---------------------------------------------------------------------------\u001b[0m",
      "\u001b[1;31mNameError\u001b[0m                                 Traceback (most recent call last)",
      "\u001b[1;32m<ipython-input-9-0e33a13c1a36>\u001b[0m in \u001b[0;36m<module>\u001b[1;34m\u001b[0m\n\u001b[0;32m      1\u001b[0m \u001b[0md\u001b[0m \u001b[1;33m=\u001b[0m \u001b[0mmodel\u001b[0m\u001b[1;33m(\u001b[0m\u001b[0mX_train\u001b[0m\u001b[1;33m,\u001b[0m \u001b[0my_train\u001b[0m\u001b[1;33m,\u001b[0m \u001b[0mX_train\u001b[0m\u001b[1;33m,\u001b[0m \u001b[0my_train\u001b[0m\u001b[1;33m,\u001b[0m \u001b[0mnum_iterations\u001b[0m \u001b[1;33m=\u001b[0m \u001b[1;36m1000\u001b[0m\u001b[1;33m,\u001b[0m \u001b[0mlearning_rate\u001b[0m \u001b[1;33m=\u001b[0m \u001b[1;36m0.018\u001b[0m\u001b[1;33m,\u001b[0m \u001b[0mprint_cost\u001b[0m \u001b[1;33m=\u001b[0m \u001b[1;32mTrue\u001b[0m\u001b[1;33m)\u001b[0m\u001b[1;33m\u001b[0m\u001b[1;33m\u001b[0m\u001b[0m\n\u001b[0;32m      2\u001b[0m \u001b[0mX_train\u001b[0m \u001b[1;33m=\u001b[0m \u001b[0mnormalize\u001b[0m\u001b[1;33m(\u001b[0m\u001b[0mX_train\u001b[0m\u001b[1;33m)\u001b[0m\u001b[1;33m\u001b[0m\u001b[1;33m\u001b[0m\u001b[0m\n\u001b[1;32m----> 3\u001b[1;33m \u001b[0mplotData\u001b[0m\u001b[1;33m(\u001b[0m\u001b[0mX_train\u001b[0m\u001b[1;33m,\u001b[0m \u001b[0my_train\u001b[0m\u001b[1;33m,\u001b[0m \u001b[0mxlabel\u001b[0m\u001b[1;33m=\u001b[0m\u001b[1;34m\"1st exam\"\u001b[0m\u001b[1;33m,\u001b[0m \u001b[0mylabel\u001b[0m\u001b[1;33m=\u001b[0m\u001b[1;34m\"2nd exam\"\u001b[0m\u001b[1;33m,\u001b[0m \u001b[0mw\u001b[0m \u001b[1;33m=\u001b[0m \u001b[0md\u001b[0m\u001b[1;33m[\u001b[0m\u001b[1;34m\"W\"\u001b[0m\u001b[1;33m]\u001b[0m\u001b[1;33m,\u001b[0m \u001b[0mb\u001b[0m \u001b[1;33m=\u001b[0m \u001b[0md\u001b[0m\u001b[1;33m[\u001b[0m\u001b[1;34m\"w_0\"\u001b[0m\u001b[1;33m]\u001b[0m\u001b[1;33m,\u001b[0m \u001b[0mplot_db\u001b[0m\u001b[1;33m=\u001b[0m\u001b[1;32mTrue\u001b[0m\u001b[1;33m,\u001b[0m \u001b[0mpart_I\u001b[0m \u001b[1;33m=\u001b[0m \u001b[1;32mFalse\u001b[0m\u001b[1;33m)\u001b[0m\u001b[1;33m\u001b[0m\u001b[1;33m\u001b[0m\u001b[0m\n\u001b[0m",
      "\u001b[1;32m~\\OneDrive\\Documents\\1_University\\Classes\\Machine Learning\\Assignments\\PA3\\PA3_BIGBIE\\plotutil.py\u001b[0m in \u001b[0;36mplotData\u001b[1;34m(X_train, y_train, xlabel, ylabel, w, b, plot_db, part_I)\u001b[0m\n\u001b[0;32m    126\u001b[0m \t\t\t\t\t\t\t np.arange(y_min, y_max, h))\n\u001b[0;32m    127\u001b[0m \u001b[1;33m\u001b[0m\u001b[0m\n\u001b[1;32m--> 128\u001b[1;33m                 \u001b[0mnX\u001b[0m \u001b[1;33m=\u001b[0m \u001b[0mfnc_normalize\u001b[0m\u001b[1;33m(\u001b[0m\u001b[0mmap_features\u001b[0m\u001b[1;33m(\u001b[0m\u001b[0mnp\u001b[0m\u001b[1;33m.\u001b[0m\u001b[0mc_\u001b[0m\u001b[1;33m[\u001b[0m\u001b[0mxx\u001b[0m\u001b[1;33m.\u001b[0m\u001b[0mravel\u001b[0m\u001b[1;33m(\u001b[0m\u001b[1;33m)\u001b[0m\u001b[1;33m,\u001b[0m \u001b[0myy\u001b[0m\u001b[1;33m.\u001b[0m\u001b[0mravel\u001b[0m\u001b[1;33m(\u001b[0m\u001b[1;33m)\u001b[0m\u001b[1;33m]\u001b[0m\u001b[1;33m,\u001b[0m \u001b[1;36m6\u001b[0m\u001b[1;33m)\u001b[0m\u001b[1;33m.\u001b[0m\u001b[0mT\u001b[0m\u001b[1;33m)\u001b[0m\u001b[1;33m\u001b[0m\u001b[1;33m\u001b[0m\u001b[0m\n\u001b[0m\u001b[0;32m    129\u001b[0m \u001b[1;33m\u001b[0m\u001b[0m\n\u001b[0;32m    130\u001b[0m                 \u001b[1;31m# Put the result into a color plot\u001b[0m\u001b[1;33m\u001b[0m\u001b[1;33m\u001b[0m\u001b[1;33m\u001b[0m\u001b[0m\n",
      "\u001b[1;31mNameError\u001b[0m: name 'fnc_normalize' is not defined"
     ]
    },
    {
     "data": {
      "image/png": "[encoded data removed]",
      "text/plain": [
       "<Figure size 432x288 with 1 Axes>"
      ]
     },
     "metadata": {
      "needs_background": "light"
     },
     "output_type": "display_data"
    }
   ],
   "source": [
    "d = model(X_train, y_train, X_train, y_train, num_iterations = 1000, learning_rate = 0.018, print_cost = True)\n",
    "X_train = normalize(X_train)\n",
    "plotData(X_train, y_train, xlabel=\"1st exam\", ylabel=\"2nd exam\", w = d[\"W\"], b = d[\"w_0\"], plot_db=True, part_I = False)"
   ]
  },
  {
   "cell_type": "code",
   "execution_count": null,
   "metadata": {},
   "outputs": [],
   "source": []
  }
 ],
 "metadata": {
  "kernelspec": {
   "display_name": "Python 3",
   "language": "python",
   "name": "python3"
  },
  "language_info": {
   "codemirror_mode": {
    "name": "ipython",
    "version": 3
   },
   "file_extension": ".py",
   "mimetype": "text/x-python",
   "name": "python",
   "nbconvert_exporter": "python",
   "pygments_lexer": "ipython3",
   "version": "3.7.6"
  }
 },
 "nbformat": 4,
 "nbformat_minor": 2
}
